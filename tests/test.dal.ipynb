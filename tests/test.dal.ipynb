{
 "cells": [
  {
   "cell_type": "markdown",
   "id": "a9cee2e3-ccbe-4af4-8662-23100bfe7100",
   "metadata": {},
   "source": [
    "# Módulo Dal - \"Data Acess Layer\""
   ]
  },
  {
   "cell_type": "code",
   "execution_count": 6,
   "id": "318d04e7-d48a-499a-af15-f24360099ef0",
   "metadata": {},
   "outputs": [],
   "source": [
    "import sqlite3 as sql"
   ]
  },
  {
   "cell_type": "code",
   "execution_count": 4,
   "id": "b3759f8d-81ce-4eb0-9dd0-e6df12fab976",
   "metadata": {},
   "outputs": [
    {
     "ename": "SyntaxError",
     "evalue": "invalid syntax. Perhaps you forgot a comma? (3159775868.py, line 6)",
     "output_type": "error",
     "traceback": [
      "\u001b[1;36m  Cell \u001b[1;32mIn[4], line 6\u001b[1;36m\u001b[0m\n\u001b[1;33m    conn.execute(CREATE TABLE Contatos(\u001b[0m\n\u001b[1;37m                 ^\u001b[0m\n\u001b[1;31mSyntaxError\u001b[0m\u001b[1;31m:\u001b[0m invalid syntax. Perhaps you forgot a comma?\n"
     ]
    }
   ],
   "source": [
    "# Função para criar o banco de dados\n",
    "\n",
    "conn = sql.connect(\"Agenda.db\")\n",
    "conn.cursor()\n",
    "\n",
    "conn.execute(CREATE TABLE Contatos(\n",
    "    id INTEGER NOT NULL PRIMARY KEY AUTOINCREMENT,\n",
    "    Prenome VARCHAR(50) NOT NULL,\n",
    "    NomeMeio VARCHAR(50),\n",
    "    Sobrenome VARCHAR(50) NOT NULL,\n",
    "    CodArea VARCHAR(2) NOT NULL,\n",
    "    Celular VARCHAR(9),\n",
    "    Fixo VARCHAR(8),\n",
    "    Estado VARCHAR(2) NOT NULL,\n",
    "    Municipio VARCHAR(50) NOT NULL,\n",
    "    Bairro VARCHAR(50) NOT NULL,\n",
    "    TipoLogradouro VARCHAR(30) NOT NULL,\n",
    "    NomeLogradouro VARCHAR(80) NOT NULL,\n",
    "    Numero VARCHAR(20) NOT NULL,\n",
    "    Complemento VARCHAR(30)\n",
    "    );\n",
    ")\n",
    "\n",
    "conn.close()"
   ]
  },
  {
   "cell_type": "code",
   "execution_count": 5,
   "id": "78be311c-e269-4255-af0e-80c7b4f62858",
   "metadata": {},
   "outputs": [
    {
     "ename": "NameError",
     "evalue": "name 'conn' is not defined",
     "output_type": "error",
     "traceback": [
      "\u001b[1;31m---------------------------------------------------------------------------\u001b[0m",
      "\u001b[1;31mNameError\u001b[0m                                 Traceback (most recent call last)",
      "Cell \u001b[1;32mIn[5], line 3\u001b[0m\n\u001b[0;32m      1\u001b[0m \u001b[38;5;66;03m# conn = sql.connect(\"Agenda.db\")\u001b[39;00m\n\u001b[1;32m----> 3\u001b[0m \u001b[43mconn\u001b[49m\u001b[38;5;241m.\u001b[39mcursor()\n\u001b[0;32m      5\u001b[0m conn\u001b[38;5;241m.\u001b[39mexecute(\n\u001b[0;32m      6\u001b[0m     \u001b[38;5;124;03m\"\"\"\u001b[39;00m\n\u001b[0;32m      7\u001b[0m \u001b[38;5;124;03m    INSERT INTO Contatos(\u001b[39;00m\n\u001b[1;32m   (...)\u001b[0m\n\u001b[0;32m     24\u001b[0m \u001b[38;5;124;03m    \"\"\"\u001b[39;00m\n\u001b[0;32m     25\u001b[0m )\n",
      "\u001b[1;31mNameError\u001b[0m: name 'conn' is not defined"
     ]
    }
   ],
   "source": [
    "# conn = sql.connect(\"Agenda.db\")\n",
    "\n",
    "conn.cursor()\n",
    "\n",
    "conn.execute(\n",
    "    \"\"\"\n",
    "    INSERT INTO Contatos(\n",
    "    id\n",
    "    prenome,\n",
    "    nomeMeio,\n",
    "    sobrenome,\n",
    "    codArea,\n",
    "    celular,\n",
    "    fixo,\n",
    "    estado,\n",
    "    municipio,\n",
    "    bairro,\n",
    "    tipoLogradouro,\n",
    "    nomeLogradouro,\n",
    "    numero,\n",
    "    complemento)\n",
    "    values\n",
    "    1, \"João\", \"da Silva\", \"Fontenele\", \"51\", \"999999999\", \"\", \"RS\", \"Porto Alegre\", \"Medianeira\", \"Rua\", \"Alguma\", \"258\", \"\")\n",
    "    \"\"\"\n",
    ")"
   ]
  },
  {
   "cell_type": "code",
   "execution_count": 7,
   "id": "97922cc6-44bb-43c1-8e12-50325eb66248",
   "metadata": {},
   "outputs": [],
   "source": [
    "import sqlite3 as sql\n",
    "\n",
    "def inserir(registro: list) -> sql.Cursor:\n",
    "    conn = sql.connect(\"Agenda.db\")\n",
    "    conn.cursos()\n",
    "    conn.execute(\"\"\"\n",
    "    INSERT INTO Contatos values registro;\"\"\")"
   ]
  },
  {
   "cell_type": "code",
   "execution_count": null,
   "id": "a18f8315-3910-4b3d-b26c-28988f01f505",
   "metadata": {},
   "outputs": [],
   "source": []
  }
 ],
 "metadata": {
  "kernelspec": {
   "display_name": "Python 3 (ipykernel)",
   "language": "python",
   "name": "python3"
  },
  "language_info": {
   "codemirror_mode": {
    "name": "ipython",
    "version": 3
   },
   "file_extension": ".py",
   "mimetype": "text/x-python",
   "name": "python",
   "nbconvert_exporter": "python",
   "pygments_lexer": "ipython3",
   "version": "3.10.9"
  }
 },
 "nbformat": 4,
 "nbformat_minor": 5
}
